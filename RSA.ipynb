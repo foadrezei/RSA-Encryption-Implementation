{
  "nbformat": 4,
  "nbformat_minor": 0,
  "metadata": {
    "colab": {
      "provenance": [],
      "authorship_tag": "ABX9TyNdwURmU9V9Qz1eTIqK4bB/",
      "include_colab_link": true
    },
    "kernelspec": {
      "name": "python3",
      "display_name": "Python 3"
    },
    "language_info": {
      "name": "python"
    }
  },
  "cells": [
    {
      "cell_type": "markdown",
      "metadata": {
        "id": "view-in-github",
        "colab_type": "text"
      },
      "source": [
        "<a href=\"https://colab.research.google.com/github/foadrezei/RSA-Encryption-Implementation/blob/main/RSA.ipynb\" target=\"_parent\"><img src=\"https://colab.research.google.com/assets/colab-badge.svg\" alt=\"Open In Colab\"/></a>"
      ]
    },
    {
      "cell_type": "code",
      "execution_count": null,
      "metadata": {
        "colab": {
          "base_uri": "https://localhost:8080/"
        },
        "id": "eF1cyMTfLq4Z",
        "outputId": "8d252a57-db15-4fca-ecb4-7c8f6331a374"
      },
      "outputs": [
        {
          "output_type": "stream",
          "name": "stdout",
          "text": [
            "RSA Encryption/Decryption\n",
            "==============================\n",
            "Generating RSA key pair...\n",
            "Public key (e, n): (65537, 115144274751659577510426383434761013037465401907174002939226755092324159722839151257105848251676672880703509384092738868460055535841646499216599090956480486525896052777849350146580019482872759497109891480547901416079078626463406191241064873145923348171277877924470461682424264032404544767790472189691051369081)\n",
            "Private key (d, n): [hidden for security]\n"
          ]
        }
      ],
      "source": [
        "import random\n",
        "import math\n",
        "import sys\n",
        "from sympy import isprime\n",
        "\n",
        "def generate_large_prime(bit_length=1024):\n",
        "    \"\"\"Generate a large prime number of specified bit length\"\"\"\n",
        "    while True:\n",
        "        num = random.getrandbits(bit_length)\n",
        "        # Ensure it's odd and has the correct bit length\n",
        "        num |= (1 << bit_length - 1) | 1\n",
        "        if isprime(num):\n",
        "            return num\n",
        "\n",
        "def extended_gcd(a, b):\n",
        "    \"\"\"Extended Euclidean Algorithm to find gcd and coefficients\"\"\"\n",
        "    if a == 0:\n",
        "        return (b, 0, 1)\n",
        "    else:\n",
        "        g, y, x = extended_gcd(b % a, a)\n",
        "        return (g, x - (b // a) * y, y)\n",
        "\n",
        "def modinv(a, m):\n",
        "    \"\"\"Modular inverse using extended Euclidean algorithm\"\"\"\n",
        "    g, x, y = extended_gcd(a, m)\n",
        "    if g != 1:\n",
        "        raise Exception('Modular inverse does not exist')\n",
        "    else:\n",
        "        return x % m\n",
        "\n",
        "def generate_keypair(bit_length=1024):\n",
        "    \"\"\"Generate RSA public and private keys\"\"\"\n",
        "    # Step 1: Choose two distinct large prime numbers p and q\n",
        "    p = generate_large_prime(bit_length//2)\n",
        "    q = generate_large_prime(bit_length//2)\n",
        "    while p == q:\n",
        "        q = generate_large_prime(bit_length//2)\n",
        "\n",
        "    # Step 2: Compute n = p * q\n",
        "    n = p * q\n",
        "\n",
        "    # Step 3: Compute φ(n) (Euler's totient function)\n",
        "    phi = (p-1) * (q-1)\n",
        "\n",
        "    # Step 4: Choose e such that 1 < e < φ(n) and gcd(e, φ(n)) = 1\n",
        "    e = 65537  # Common choice for e\n",
        "    while True:\n",
        "        if math.gcd(e, phi) == 1:\n",
        "            break\n",
        "        e += 2\n",
        "\n",
        "    # Step 5: Compute d as the modular inverse of e modulo φ(n)\n",
        "    d = modinv(e, phi)\n",
        "\n",
        "    # Public key is (e, n), private key is (d, n)\n",
        "    return ((e, n), (d, n))\n",
        "\n",
        "def encrypt(public_key, plaintext):\n",
        "    \"\"\"Encrypt plaintext using public key\"\"\"\n",
        "    e, n = public_key\n",
        "    # Convert each character to its ASCII value and encrypt\n",
        "    cipher = [pow(ord(char), e, n) for char in plaintext]\n",
        "    return cipher\n",
        "\n",
        "def decrypt(private_key, ciphertext):\n",
        "    \"\"\"Decrypt ciphertext using private key\"\"\"\n",
        "    d, n = private_key\n",
        "    # Decrypt each number in ciphertext and convert back to character\n",
        "    plain = [chr(pow(char, d, n)) for char in ciphertext]\n",
        "    return ''.join(plain)\n",
        "\n",
        "def main():\n",
        "    print(\"RSA Encryption/Decryption\")\n",
        "    print(\"=\"*30)\n",
        "\n",
        "    # Generate keys\n",
        "    print(\"Generating RSA key pair...\")\n",
        "    public_key, private_key = generate_keypair(1024)\n",
        "    print(f\"Public key (e, n): {public_key}\")\n",
        "    print(f\"Private key (d, n): [hidden for security]\")\n",
        "\n",
        "    # Get message from user\n",
        "    message = input(\"\\nEnter a message to encrypt: \")\n",
        "\n",
        "    # Encrypt the message\n",
        "    print(\"\\nEncrypting message...\")\n",
        "    encrypted_msg = encrypt(public_key, message)\n",
        "    print(f\"Encrypted message: {encrypted_msg}\")\n",
        "\n",
        "    # Decrypt the message\n",
        "    print(\"\\nDecrypting message...\")\n",
        "    decrypted_msg = decrypt(private_key, encrypted_msg)\n",
        "    print(f\"Decrypted message: {decrypted_msg}\")\n",
        "\n",
        "if __name__ == \"__main__\":\n",
        "    main()"
      ]
    },
    {
      "cell_type": "code",
      "source": [],
      "metadata": {
        "id": "BIwmv6z9MNR_"
      },
      "execution_count": null,
      "outputs": []
    }
  ]
}